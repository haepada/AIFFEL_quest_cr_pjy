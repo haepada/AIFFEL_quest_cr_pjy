{
  "nbformat": 4,
  "nbformat_minor": 0,
  "metadata": {
    "colab": {
      "provenance": [],
      "include_colab_link": true
    },
    "kernelspec": {
      "name": "python3",
      "display_name": "Python 3"
    },
    "language_info": {
      "name": "python"
    }
  },
  "cells": [
    {
      "cell_type": "markdown",
      "metadata": {
        "id": "view-in-github",
        "colab_type": "text"
      },
      "source": [
        "<a href=\"https://colab.research.google.com/github/jiyoon-park97/AIFFEL_quest_cr/blob/main/Python%20/Quest03%20/PythonQuest03_ipynb%EC%9D%98_%EC%82%AC%EB%B3%B8.ipynb\" target=\"_parent\"><img src=\"https://colab.research.google.com/assets/colab-badge.svg\" alt=\"Open In Colab\"/></a>"
      ]
    },
    {
      "cell_type": "markdown",
      "source": [
        "# [파이썬] 퀘스트: 클로저를 활용한 문제해결하기\n",
        "\n",
        "난이도: ★★★★☆  \n",
        "장르: nonlocal, 클로저, 데코레이터 활용  \n",
        "\n",
        "---\n",
        "\n",
        "\n"
      ],
      "metadata": {
        "id": "sPRcyZsPorCm"
      }
    },
    {
      "cell_type": "markdown",
      "source": [
        "## 문제 1. 최댓값과 최솟값 찾기\n",
        "\n"
      ],
      "metadata": {
        "id": "Dh2vcnApr4VI"
      }
    },
    {
      "cell_type": "markdown",
      "source": [
        "조건:  \n",
        "* 주어진 리스트의 최댓값과 최솟값을 반환하는 클로저 함수를 완성해 주세요.\n",
        "    * 주어진 숫자 리스트 numbers에 대해 find_min_max 함수를 호출하면 find_min과 find_max 함수를 얻을 수 있습니다.\n",
        "    * find_min() 함수를 호출하면 최솟값을, find_max()함수를 호출하면 최댓값을 반환합니다.\n",
        "    * 클로저를 사용하여 min_value와 max_value 변수를 외부에 노출하지 않고도 최솟값과 최대값을 찾을 수 있습니다.\n",
        "    * find_min_max 함수가 호출된 이후에도 find_min과 find_max 함수를 통해 min_value와 max_value 변수에 접근할 수 있습니다.\n",
        "* 주석으로 구현 내용이 써있는 부분을 코드로 채워주세요.\n",
        "---\n",
        "입력:\n",
        "```python\n",
        "numbers = [10, 5, 8, 12, 3, 7]\n",
        "find_min, find_max = find_min_max(numbers)\n",
        "\n",
        "print(\"최솟값:\", find_min())  \n",
        "print(\"최댓값:\", find_max())  \n",
        "```\n",
        "---\n",
        "출력:\n",
        "```\n",
        "3\n",
        "12\n",
        "```\n"
      ],
      "metadata": {
        "id": "d-vXJztpvFD-"
      }
    },
    {
      "cell_type": "code",
      "source": [
        "def find_min_max(numbers): #numbers리스트를 입력받아 최솟값과 최댓값을 저장하는 상자 준비\n",
        "    # min_value와 max_value 변수를 초기화\n",
        "    # min_value는 양의 무한대(float('inf'))로 초기화하여 어떤 숫자보다도 큰 값으로 설정\n",
        "    min_value = float('inf')   #최소값 상자\n",
        "    # max_value는 음의 무한대(float('-inf'))로 초기화하여 어떤 숫자보다도 작은 값으로 설정\n",
        "    max_value = float('-inf')  #최대값 상자\n",
        "\n",
        "    def update_min_max(num):\n",
        "        # 외부함수의 변수인 min_value, max_value 참조\n",
        "        # 외부함수의 변수를 가지고 들어옴.\n",
        "        nonlocal min_value, max_value  #안에 있는 함수에서 바깥 함수의 변수를 수정할때 nonlocal을 사용\n",
        "\n",
        "        # 만약 num 값이 min_value보다 작다면 min_value를 num 값으로 변경\n",
        "        if num < min_value:   #만약 숫자가 더 작으면\n",
        "           min_value = num    #작은값 상자에 넣기.\n",
        "\n",
        "        # 만약 num 값이 max_value보다 크다면 max_value를 num 값으로 변경\n",
        "        if num  > max_value:   #만약 숫자가 더 크면\n",
        "            max_value = num    #큰 값 상자에 넣기.\n",
        "\n",
        "\n",
        "    # numbers 리스트의 모든 값을 순환하며 최댓값과 최솟값 업데이트\n",
        "    for num in numbers:     #numbers안의 숫자를 하나씩 살펴보면서 최솟값, 최대값 찾기\n",
        "        update_min_max(num)\n",
        "\n",
        "    #최솟값과 최댓값을 알려주는 함수 만들기.\n",
        "    # 최솟값을 반환하는 내부함수\n",
        "    def get_min():\n",
        "\n",
        "        return min_value\n",
        "\n",
        "\n",
        "    # 최댓값을 반환하는 내부함수\n",
        "    def get_max():\n",
        "        return max_value\n",
        "\n",
        "\n",
        "    # 외부함수는 내부함수(get_min()과 get_max())를 반환\n",
        "    #두 함수를 돌려줘서 나중에 쓸수 있게 해줌.\n",
        "    return get_min, get_max\n"
      ],
      "metadata": {
        "id": "oF_uYyS2jjPj"
      },
      "execution_count": null,
      "outputs": []
    },
    {
      "cell_type": "code",
      "source": [
        "numbers = [10, 5, 8, 12, 3, 7]\n",
        "get_min, get_max = find_min_max(numbers)  #도구를 가져와요!\n",
        "\n",
        "print(\"최솟값:\", get_min())  # 작은 값 상자에 들어있는 숫자 -> 3\n",
        "print(\"최댓값:\", get_max())  # 큰 값 상자에 들어있는 숫자 -> 12"
      ],
      "metadata": {
        "id": "fCd_fJBrobxi",
        "colab": {
          "base_uri": "https://localhost:8080/"
        },
        "outputId": "190bfa8e-5011-4bcb-b7e5-a31822129b25"
      },
      "execution_count": null,
      "outputs": [
        {
          "output_type": "stream",
          "name": "stdout",
          "text": [
            "최솟값: 3\n",
            "최댓값: 12\n"
          ]
        }
      ]
    },
    {
      "cell_type": "code",
      "source": [
        "numbers = [10, 5, 8, 12, 3, 7]\n",
        "find_min, find_max = find_min_max(numbers)  #함수 이름이라서 아무거나 사용가능!\n",
        "\n",
        "print(\"최솟값:\", find_min())\n",
        "print(\"최댓값:\", find_max())"
      ],
      "metadata": {
        "colab": {
          "base_uri": "https://localhost:8080/"
        },
        "id": "3vBnautIp3VE",
        "outputId": "4462da33-6fa1-409d-cc93-ac05b485de22"
      },
      "execution_count": null,
      "outputs": [
        {
          "output_type": "stream",
          "name": "stdout",
          "text": [
            "최솟값: 3\n",
            "최댓값: 12\n"
          ]
        }
      ]
    },
    {
      "cell_type": "code",
      "source": [
        "numbers = [10, 5, 8, 12, 3, 7]\n",
        "apple, banana = find_min_max(numbers)  #함수 이름이라서 아무거나 사용가능!\n",
        "\n",
        "print(\"최솟값:\", apple())\n",
        "print(\"최댓값:\", banana())"
      ],
      "metadata": {
        "colab": {
          "base_uri": "https://localhost:8080/"
        },
        "outputId": "7f0d5f40-d955-4a07-e07b-d7339775b56a",
        "id": "FoAhYmc0qMv6"
      },
      "execution_count": null,
      "outputs": [
        {
          "output_type": "stream",
          "name": "stdout",
          "text": [
            "최솟값: 3\n",
            "최댓값: 12\n"
          ]
        }
      ]
    },
    {
      "cell_type": "markdown",
      "source": [
        "## 문제 2. 함수의 호출 횟수를 세는 데코레이터"
      ],
      "metadata": {
        "id": "d3XECsmXwES5"
      }
    },
    {
      "cell_type": "markdown",
      "source": [
        "지난 시간에 배운 데코레이터를 기억하시나요? 데코레이터도 내부함수를 반환하는 클로저를 활용한 문법입니다. 클로저를 활용하여 함수 호출 횟수를 출력하는 데코레이터를 만들어봅시다.\n",
        "\n",
        "조건:\n",
        "* 함수가 실행될 때 마다 함수 이름과 실행 횟수를 출력하는 데코레이터 `counter` 만들기  \n",
        "\n",
        "힌트:\n",
        "* 데코레이터의 내부 함수(클로저)는 실행횟수를 기억하기 위해 외부 함수의 변수를 참조 해야 합니다\n",
        "* 함수의 이름은 `함수이름.__name__`으로 접근할 수 있습니다.\n",
        "\n",
        "---\n",
        "입력:\n",
        "```python\n",
        "@counter\n",
        "def say_hello():\n",
        "    print(\"Hello Aiffel!\")\n",
        "\n",
        "for i in range(5):\n",
        "    say_hello()\n",
        "```\n",
        "---\n",
        "출력:\n",
        "```\n",
        "Hello Aiffel!\n",
        "say_hello 실행횟수: 1\n",
        "Hello Aiffel!\n",
        "say_hello 실행횟수: 2\n",
        "Hello Aiffel!\n",
        "say_hello 실행횟수: 3\n",
        "Hello Aiffel!\n",
        "say_hello 실행횟수: 4\n",
        "Hello Aiffel!\n",
        "say_hello 실행횟수: 5\n",
        "```"
      ],
      "metadata": {
        "id": "HTdH6DkVvJMF"
      }
    },
    {
      "cell_type": "code",
      "source": [
        "#호출 횟수를 저장하는 변수\n",
        "# 어떤 함수를 몇 번 불럿는지 자동으로 숫자를 세는도구(데코레이터) 만들기!\n",
        "def counter(func):\n",
        "    count = 0  #함수 몇번 불렀는지 세는 숫자\n",
        "\n",
        "    def wrapper():\n",
        "        nonlocal count #외부함수의 count 변수를 참조 #바깥에 있는 count를 쓰기.\n",
        "        count += 1  #함수를 부를때마다 숫자 1씩 더하기.\n",
        "        print(f\"'{func.__name__}' 실행횟수: {count}\")  #함수의 이름은 함수이름.__name__으로 쓰기, #몇번인지 카운트 출력하기\n",
        "        func() #함수 부르기.\n",
        "\n",
        "    return wrapper  #새로만든 함수(wrapper)를 돌려줌.\n",
        "\n",
        "@counter  #데코레이터를 나타낼때 앞에 '@'를 붙인다.\n",
        "def say_hello():\n",
        "    print(\"Hello Aiffel!\")\n",
        "\n",
        "for _ in range(5):\n",
        "    say_hello()"
      ],
      "metadata": {
        "id": "QYdFtnf-MOCg",
        "colab": {
          "base_uri": "https://localhost:8080/"
        },
        "outputId": "a5c7140b-0b68-4334-f1c0-973090273fc4"
      },
      "execution_count": null,
      "outputs": [
        {
          "output_type": "stream",
          "name": "stdout",
          "text": [
            "'say_hello' 실행횟수: 1\n",
            "Hello Aiffel!\n",
            "'say_hello' 실행횟수: 2\n",
            "Hello Aiffel!\n",
            "'say_hello' 실행횟수: 3\n",
            "Hello Aiffel!\n",
            "'say_hello' 실행횟수: 4\n",
            "Hello Aiffel!\n",
            "'say_hello' 실행횟수: 5\n",
            "Hello Aiffel!\n"
          ]
        }
      ]
    },
    {
      "cell_type": "markdown",
      "source": [
        "![image.png](data:image/png;base64,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)"
      ],
      "metadata": {
        "id": "gmhvgDG_jN-I"
      }
    },
    {
      "cell_type": "markdown",
      "source": [
        "**회고**  \n",
        "배운 점 : 1번 문제에서 맨 밑에 굳이 find_min, find_max를 쓰는 이유를 몰라서 여러가지로 바꿔보는 시도를 했다. 'a', 'b', 'apple','banana'로 바꿔도 실행이 되었다. 신기했다...ㅎ.ㅎ  \n",
        "  \n",
        "아쉬운 점 : 그냥 이 코드에 대한 이해가 될 듯 안 될듯 하다 ㅜㅜ (어제 클로저 배울 때 결석함 ^^;) 그래서 클로저에 대한 개념을 잡고 가야할 것 같다.  \n",
        "  \n",
        "느낀 점 : 나라 사랑 그루 사랑!! 우리 조 그루님 아니었으면 못 했을 것 같다.\n",
        "\n"
      ],
      "metadata": {
        "id": "XMFZIzQAsO4J"
      }
    }
  ]
}